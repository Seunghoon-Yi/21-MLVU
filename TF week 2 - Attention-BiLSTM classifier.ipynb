{
 "cells": [
  {
   "cell_type": "code",
   "execution_count": 29,
   "metadata": {},
   "outputs": [],
   "source": [
    "import numpy as np\n",
    "import matplotlib.pyplot as plt\n",
    "from tensorflow.keras.datasets import imdb"
   ]
  },
  {
   "cell_type": "markdown",
   "metadata": {},
   "source": [
    "## Utilize GPUs"
   ]
  },
  {
   "cell_type": "code",
   "execution_count": 30,
   "metadata": {},
   "outputs": [
    {
     "data": {
      "text/plain": [
       "[name: \"/device:CPU:0\"\n",
       " device_type: \"CPU\"\n",
       " memory_limit: 268435456\n",
       " locality {\n",
       " }\n",
       " incarnation: 8434240237218707000,\n",
       " name: \"/device:GPU:0\"\n",
       " device_type: \"GPU\"\n",
       " memory_limit: 11000905728\n",
       " locality {\n",
       "   bus_id: 1\n",
       "   links {\n",
       "   }\n",
       " }\n",
       " incarnation: 14896714155916300689\n",
       " physical_device_desc: \"device: 0, name: NVIDIA GeForce RTX 3060, pci bus id: 0000:06:00.0, compute capability: 8.6\"]"
      ]
     },
     "execution_count": 30,
     "metadata": {},
     "output_type": "execute_result"
    }
   ],
   "source": [
    "from tensorflow.python.client import device_lib\n",
    "device_lib.list_local_devices()\n"
   ]
  },
  {
   "cell_type": "code",
   "execution_count": 31,
   "metadata": {},
   "outputs": [
    {
     "name": "stderr",
     "output_type": "stream",
     "text": [
      "<__array_function__ internals>:5: VisibleDeprecationWarning: Creating an ndarray from ragged nested sequences (which is a list-or-tuple of lists-or-tuples-or ndarrays with different lengths or shapes) is deprecated. If you meant to do this, you must specify 'dtype=object' when creating the ndarray\n",
      "C:\\Users\\PC\\AppData\\Roaming\\Python\\Python38\\site-packages\\tensorflow\\python\\keras\\datasets\\imdb.py:159: VisibleDeprecationWarning: Creating an ndarray from ragged nested sequences (which is a list-or-tuple of lists-or-tuples-or ndarrays with different lengths or shapes) is deprecated. If you meant to do this, you must specify 'dtype=object' when creating the ndarray\n",
      "  x_train, y_train = np.array(xs[:idx]), np.array(labels[:idx])\n"
     ]
    },
    {
     "name": "stdout",
     "output_type": "stream",
     "text": [
      "training data size = 25000\n",
      "test data size = 25000\n",
      "num_class = 2\n"
     ]
    },
    {
     "name": "stderr",
     "output_type": "stream",
     "text": [
      "C:\\Users\\PC\\AppData\\Roaming\\Python\\Python38\\site-packages\\tensorflow\\python\\keras\\datasets\\imdb.py:160: VisibleDeprecationWarning: Creating an ndarray from ragged nested sequences (which is a list-or-tuple of lists-or-tuples-or ndarrays with different lengths or shapes) is deprecated. If you meant to do this, you must specify 'dtype=object' when creating the ndarray\n",
      "  x_test, y_test = np.array(xs[idx:]), np.array(labels[idx:])\n"
     ]
    }
   ],
   "source": [
    "vocab_size = 10000                                    # Maximum word numbers in our dataset\n",
    "(X_train, y_train), (X_test, y_test) = imdb.load_data(num_words = vocab_size)\n",
    "print(f\"training data size = {len(X_train)}\")\n",
    "print(f\"test data size = {len(X_test)}\")\n",
    "\n",
    "num_classes = max(y_train) + 1\n",
    "print(f\"num_class = {num_classes}\")"
   ]
  },
  {
   "cell_type": "code",
   "execution_count": 32,
   "metadata": {},
   "outputs": [
    {
     "name": "stdout",
     "output_type": "stream",
     "text": [
      "Mean len = 238.71364, 2-sigma len = 407.0\n"
     ]
    },
    {
     "data": {
      "image/png": "[encoded data removed]",
      "text/plain": [
       "<Figure size 432x288 with 1 Axes>"
      ]
     },
     "metadata": {
      "needs_background": "light"
     },
     "output_type": "display_data"
    },
    {
     "name": "stdout",
     "output_type": "stream",
     "text": [
      "[1, 14, 22, 16, 43, 530, 973, 1622, 1385, 65, 458, 4468, 66, 3941, 4, 173, 36, 256, 5, 25, 100, 43, 838, 112, 50, 670, 2, 9, 35, 480, 284, 5, 150, 4, 172, 112, 167, 2, 336, 385, 39, 4, 172, 4536, 1111, 17, 546, 38, 13, 447, 4, 192, 50, 16, 6, 147, 2025, 19, 14, 22, 4, 1920, 4613, 469, 4, 22, 71, 87, 12, 16, 43, 530, 38, 76, 15, 13, 1247, 4, 22, 17, 515, 17, 12, 16, 626, 18, 2, 5, 62, 386, 12, 8, 316, 8, 106, 5, 4, 2223, 5244, 16, 480, 66, 3785, 33, 4, 130, 12, 16, 38, 619, 5, 25, 124, 51, 36, 135, 48, 25, 1415, 33, 6, 22, 12, 215, 28, 77, 52, 5, 14, 407, 16, 82, 2, 8, 4, 107, 117, 5952, 15, 256, 4, 2, 7, 3766, 5, 723, 36, 71, 43, 530, 476, 26, 400, 317, 46, 7, 4, 2, 1029, 13, 104, 88, 4, 381, 15, 297, 98, 32, 2071, 56, 26, 141, 6, 194, 7486, 18, 4, 226, 22, 21, 134, 476, 26, 480, 5, 144, 30, 5535, 18, 51, 36, 28, 224, 92, 25, 104, 4, 226, 65, 16, 38, 1334, 88, 12, 16, 283, 5, 16, 4472, 113, 103, 32, 15, 16, 5345, 19, 178, 32]\n"
     ]
    }
   ],
   "source": [
    "len_review = [len(r) for r in X_train]\n",
    "len_2sig = np.quantile(len_review, 0.865)\n",
    "print(f\"Mean len = {np.mean(len_review)}, 2-sigma len = {len_2sig}\")  # 2-sigma length cover\n",
    "plt.boxplot(len_review);plt.show()\n",
    "\n",
    "print(X_train[0])  # Embedded words. low number means high frequency, 0,1,2,3 == specialized tokens. \n",
    "word2idx = imdb.get_word_index()\n",
    "idx2word = {}\n",
    "for key, val in word2idx.items():\n",
    "    idx2word[val+3] = key         # value+3 = real mapping integer"
   ]
  },
  {
   "cell_type": "code",
   "execution_count": 33,
   "metadata": {},
   "outputs": [
    {
     "name": "stdout",
     "output_type": "stream",
     "text": [
      "most frequent : the\n",
      "least frequent : 'l'\n",
      "88587\n",
      "<sos> french horror cinema has seen something of a revival over the last couple of years with great films such as inside and <unk> romance <unk> on to the scene <unk> <unk> the revival just slightly but stands head and shoulders over most modern horror titles and is surely one of the best french horror films ever made <unk> was obviously shot on a low budget but this is made up for in far more ways than one by the originality of the film and this in turn is <unk> by the excellent writing and acting that ensure the film is a winner the plot focuses on two main ideas prison and black magic the central character is a man named <unk> sent to prison for fraud he is put in a cell with three others the quietly insane <unk> body building <unk> marcus and his retarded boyfriend daisy after a short while in the cell together they stumble upon a hiding place in the wall that contains an old <unk> after <unk> part of it they soon realise its magical powers and realise they may be able to use it to break through the prison walls br br black magic is a very interesting topic and i'm actually quite surprised that there aren't more films based on it as there's so much scope for things to do with it it's fair to say that <unk> makes the best of it's <unk> as despite it's <unk> the film never actually feels restrained and manages to flow well throughout director eric <unk> provides a great atmosphere for the film the fact that most of it takes place inside the central prison cell <unk> that the film feels very claustrophobic and this immensely benefits the central idea of the prisoners wanting to use magic to break out of the cell it's very easy to get behind them it's often said that the unknown is the thing that really <unk> people and this film proves that as the director <unk> that we can never really be sure of exactly what is round the corner and this helps to ensure that <unk> actually does manage to be quite frightening the film is memorable for a lot of reasons outside the central plot the characters are all very interesting in their own way and the fact that the book itself almost takes on its own character is very well done anyone worried that the film won't deliver by the end won't be disappointed either as the ending both makes sense and manages to be quite horrifying overall <unk> is a truly great horror film and one of the best of the decade highly recommended viewing\n"
     ]
    }
   ],
   "source": [
    "print(f\"most frequent : {idx2word[4]}\")\n",
    "print(f\"least frequent : {idx2word[max(idx2word.keys())]}\")\n",
    "print(max(idx2word.keys()))\n",
    "# An example of how the IMDB data looks like\n",
    "for idx, token in enumerate ([\"<pad>\", \"<sos>\", \"<unk>\"]):\n",
    "    idx2word[idx] = token\n",
    "print(' '.join([idx2word[idx] for idx in X_train[10]]))"
   ]
  },
  {
   "cell_type": "code",
   "execution_count": 34,
   "metadata": {},
   "outputs": [
    {
     "name": "stdout",
     "output_type": "stream",
     "text": [
      "407\n"
     ]
    }
   ],
   "source": [
    "from tensorflow.keras.utils import to_categorical\n",
    "from tensorflow.keras.preprocessing.sequence import pad_sequences\n",
    "import tensorflow as tf\n",
    "\n",
    "l_max = int(len_2sig) ; print(l_max)\n",
    "X_train = pad_sequences(X_train, maxlen = l_max)\n",
    "X_test = pad_sequences(X_test, maxlen = l_max)       # Now all of the reviews are set in len_2sig"
   ]
  },
  {
   "cell_type": "code",
   "execution_count": 35,
   "metadata": {},
   "outputs": [],
   "source": [
    "#------ The bahdanau attention ------#\n",
    "class BahdanauAttention(tf.keras.Model):\n",
    "    def __init__(self, units):\n",
    "        super(BahdanauAttention, self).__init__()  \n",
    "        # super(The current class name, self). super : execute tf.keras.Model.__init__()\n",
    "        self.W1 = Dense(units)\n",
    "        self.W2 = Dense(units)     \n",
    "        self.V = Dense(1)          # With no activation specification, act = linear\n",
    "    def call(self, val, query):\n",
    "        # query : dim = N*h (N = batch, h = hidden size)\n",
    "        h_t = tf.expand_dims(query, 1)\n",
    "        # Decoder hidden(t). expand dims in axis = 1\n",
    "        \n",
    "        # Attn score : dim = N*h*1(h : )\n",
    "        score = self.V(tf.nn.tanh(self.W1(val) + self.W2(h_t)))\n",
    "        # Dense(units) : output = dim(N, units). So this works as a weight matrix. \n",
    "        \n",
    "        # Attn weights : dim = N*d_model*1\n",
    "        weight = tf.nn.softmax(score, axis = 1) # d_model direction calc.\n",
    "        \n",
    "        # Context vec, N*()\n",
    "        weighted_vec = weight*val            \n",
    "        weighted_vec = tf.reduce_sum(weighted_vec, axis = 1)\n",
    "        \n",
    "        return weighted_vec, weight"
   ]
  },
  {
   "cell_type": "code",
   "execution_count": 36,
   "metadata": {},
   "outputs": [],
   "source": [
    "#------ The BiLSTM layer ------#\n",
    "from tensorflow.keras.layers import Dense, Embedding, Bidirectional, LSTM, Concatenate, Dropout\n",
    "from tensorflow.keras import Input, Model\n",
    "from tensorflow.keras import optimizers\n",
    "import os"
   ]
  },
  {
   "cell_type": "code",
   "execution_count": 37,
   "metadata": {},
   "outputs": [
    {
     "name": "stdout",
     "output_type": "stream",
     "text": [
      "(None, 407, 128) (None, 64) (None, 64) (None, 64) (None, 64)\n"
     ]
    }
   ],
   "source": [
    "seq_ipt = Input(shape = (l_max,), dtype = 'int32')\n",
    "embedded_seq = Embedding(vocab_size, 64, input_length = l_max, mask_zero = True)(seq_ipt)\n",
    "# 16384 wores -> 128dim embedding\n",
    "# mask_zero = True : mask layers with zeros(<--확인해볼것!)\n",
    "\n",
    "# 1st layer, N_cells = 64\n",
    "Bilstm = Bidirectional(LSTM(64, dropout = 0.5, return_sequences = True))(embedded_seq)\n",
    "# Check dims\n",
    "lstm, forward_h, forward_c, backward_h, backward_c = Bidirectional \\\n",
    "  (LSTM(64, dropout=0.5, return_sequences=True, return_state=True))(Bilstm)\n",
    "print(lstm.shape, forward_h.shape, forward_c.shape, backward_h.shape, backward_c.shape)"
   ]
  },
  {
   "cell_type": "markdown",
   "metadata": {},
   "source": [
    "**Input shape :** N(batch), 462?(max_l = **Timesteps**), 96(word embed = **input dim**)<br>\n",
    "hidden, cell dim = 64"
   ]
  },
  {
   "cell_type": "code",
   "execution_count": 38,
   "metadata": {},
   "outputs": [
    {
     "name": "stdout",
     "output_type": "stream",
     "text": [
      "Model: \"model_3\"\n",
      "__________________________________________________________________________________________________\n",
      "Layer (type)                    Output Shape         Param #     Connected to                     \n",
      "==================================================================================================\n",
      "input_4 (InputLayer)            [(None, 407)]        0                                            \n",
      "__________________________________________________________________________________________________\n",
      "embedding_2 (Embedding)         (None, 407, 64)      640000      input_4[0][0]                    \n",
      "__________________________________________________________________________________________________\n",
      "bidirectional_5 (Bidirectional) (None, 407, 128)     66048       embedding_2[0][0]                \n",
      "__________________________________________________________________________________________________\n",
      "bidirectional_6 (Bidirectional) [(None, 407, 128), ( 98816       bidirectional_5[0][0]            \n",
      "__________________________________________________________________________________________________\n",
      "concatenate_4 (Concatenate)     (None, 128)          0           bidirectional_6[0][1]            \n",
      "                                                                 bidirectional_6[0][3]            \n",
      "__________________________________________________________________________________________________\n",
      "bahdanau_attention_2 (BahdanauA ((None, 128), (None, 16577       bidirectional_6[0][0]            \n",
      "                                                                 concatenate_4[0][0]              \n",
      "__________________________________________________________________________________________________\n",
      "dense_15 (Dense)                (None, 20)           2580        bahdanau_attention_2[0][0]       \n",
      "__________________________________________________________________________________________________\n",
      "dropout_2 (Dropout)             (None, 20)           0           dense_15[0][0]                   \n",
      "__________________________________________________________________________________________________\n",
      "dense_16 (Dense)                (None, 1)            21          dropout_2[0][0]                  \n",
      "==================================================================================================\n",
      "Total params: 824,042\n",
      "Trainable params: 824,042\n",
      "Non-trainable params: 0\n",
      "__________________________________________________________________________________________________\n",
      "Epoch 1/2\n",
      "98/98 [==============================] - 556s 6s/step - loss: 0.6161 - accuracy: 0.6221 - val_loss: 0.3099 - val_accuracy: 0.8704\n",
      "Epoch 2/2\n",
      "98/98 [==============================] - 538s 6s/step - loss: 0.2580 - accuracy: 0.9132 - val_loss: 0.2858 - val_accuracy: 0.8801\n"
     ]
    }
   ],
   "source": [
    "# Concatenate each fwd / bwd state\n",
    "hidden_ = Concatenate()([forward_h, backward_h])\n",
    "cell_   = Concatenate()([forward_c, backward_c])\n",
    "# Attn, with units = hidden dim\n",
    "Attn = BahdanauAttention(64)\n",
    "context_vector, attention_weights = Attn(lstm, hidden_)\n",
    "\n",
    "dense1 = Dense(20, activation=\"relu\")(context_vector)\n",
    "dropout = Dropout(0.5)(dense1)\n",
    "output = Dense(1, activation=\"sigmoid\")(dropout)\n",
    "model = Model(inputs=seq_ipt, outputs=output)\n",
    "\n",
    "model.compile(loss='binary_crossentropy', optimizer='adam', metrics=['accuracy'])\n",
    "model.summary()\n",
    "history = model.fit(X_train, y_train, epochs = 2, batch_size = 256, \\\n",
    "                    validation_data=(X_test, y_test), verbose=1)"
   ]
  },
  {
   "cell_type": "code",
   "execution_count": 40,
   "metadata": {},
   "outputs": [
    {
     "name": "stdout",
     "output_type": "stream",
     "text": [
      "782/782 [==============================] - 466s 596ms/step - loss: 0.2858 - accuracy: 0.8801\n",
      "Accuracy : 0.8801\n"
     ]
    }
   ],
   "source": [
    "print(\"Accuracy : %.4f\" % (model.evaluate(X_test, y_test)[1]))"
   ]
  },
  {
   "cell_type": "markdown",
   "metadata": {},
   "source": [
    "## Useful tips : <br>\n",
    "**1. .join // https://blockdmask.tistory.com/468<br>**\n",
    "<code>'_'.join(['a', 'small', 'example'])\n",
    "</code>\n",
    "returns \"a_small_example\"<br><br>\n",
    "**2. tf to_categorical(x, num_classes = n)**<br>\n",
    "returns one-hot encoded n classes in n dimension<br><br>\n",
    "**3. tf pad_sequence(X, )**<br>\n",
    "basically pad to the largest dimension of the data<br><br>\n",
    "**4. tf.expand_dims?**<br>\n",
    "transpose를 해서 (Batch)X(size,) -> (Batch)X(1,size)로 맞추기 위해 <br>\n",
    "**5. LSTM outputs**<br>\n",
    "lstm = LSTM(n_units, return_seq = False, return_st = False)(input) : returns only the last hidden st<br>\n",
    "return_seq = False, return_st = True : last hidden st, last hidden st, last cell st<br>\n",
    "return_seq = True, return_st = True : All sequence hidden st, last hidden st, last cell st<br>\n",
    "https://simpling.tistory.com/19"
   ]
  },
  {
   "cell_type": "code",
   "execution_count": null,
   "metadata": {},
   "outputs": [],
   "source": [
    "test_bi, fwd_h, fwd_c, bwd_h, bwd_c =\\\n",
    "Bidirectional(LSTM(64, dropout=0.5, return_sequences=True, return_state=True))(embedded_seq)\n",
    "print(test_bi.shape, fwd_h.shape, fwd_c.shape, bwd_h.shape, bwd_c.shape)\n",
    "\n",
    "test_single, h, c = LSTM(64, dropout=0.5, return_sequences=True, return_state=True)(embedded_seq)\n",
    "print(test_single.shape, h.shape, c.shape)"
   ]
  },
  {
   "cell_type": "markdown",
   "metadata": {},
   "source": [
    "**6. layers.Dense()**<br>\n"
   ]
  },
  {
   "cell_type": "code",
   "execution_count": null,
   "metadata": {},
   "outputs": [],
   "source": [
    "A = np.random.random((3,4,5));print(A)\n",
    "test_ipt = Input(shape = (A.shape), dtype = 'float32')\n",
    "dense_test = Dense(10,activation = 'relu')(test_ipt)\n",
    "dense_test_ = Dense(1)(dense_test)\n",
    "model_test = Model(inputs = test_ipt, outputs = dense_test_)\n",
    "model_test.summary()"
   ]
  },
  {
   "cell_type": "markdown",
   "metadata": {},
   "source": [
    "Suppose that the Input(X) shape  =  (a,b,c), Dense layer = Dense(d).<br>\n",
    "Then W = (c, d), where WX = np.tensordot(X, W, [-1], [0]). Hence contracting through the **last axis of the input** and **the first axis of W(weight mtx or the Kernel of the layer)**"
   ]
  }
 ],
 "metadata": {
  "kernelspec": {
   "display_name": "Python 3",
   "language": "python",
   "name": "python3"
  },
  "language_info": {
   "codemirror_mode": {
    "name": "ipython",
    "version": 3
   },
   "file_extension": ".py",
   "mimetype": "text/x-python",
   "name": "python",
   "nbconvert_exporter": "python",
   "pygments_lexer": "ipython3",
   "version": "3.8.5"
  }
 },
 "nbformat": 4,
 "nbformat_minor": 4
}
